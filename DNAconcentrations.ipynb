{
 "cells": [
  {
   "cell_type": "markdown",
   "metadata": {},
   "source": [
    "# Protocol for Creating the Working DNA concentrations"
   ]
  },
  {
   "cell_type": "markdown",
   "metadata": {},
   "source": [
    "### 1. Add 100 uL of TE Buffer to lyophilized DNA. (40 umol/L)\n",
    "### 2. Add 20 uL of DNA solution to 80 uL TE Buffer. (8 umol/L)\n",
    "### 3. Add 973 uL TE Buffer, 17 uL 3M NaCl solution, and 5 uL each of forward/reverse primer. (40 fmol/uL)\n",
    "### Annealing procedure\n",
    "Place in 94 C heat block for 3 minutes then allow to return to room temperature on the bench.\n",
    "### (For library part): Add 50 uL of each DNA solution into a new library solution\n",
    "### (For DVbackbone - positions 2 through 13): Add 83 uL of DV_p2, DV_p3, ... DV_p13 into a single container. Refill this as more DV is needed.\n",
    "** This whole procedure has to be done for every ultramer pairing (which is more than one for sequences longer than 200 bp). **"
   ]
  },
  {
   "cell_type": "code",
   "execution_count": 2,
   "metadata": {
    "collapsed": true
   },
   "outputs": [],
   "source": [
    "# 4 nanomoles\n",
    "nanomolesDNA = 4\n",
    "micromolesDNA = 4*(10**6)/(10**9)\n",
    "\n",
    "first_solution_volume_uL = 100 \n",
    "first_solution_volume_L = first_solution_volume_uL * 10**(-6)\n",
    "first_solution_conc = micromolesDNA / first_solution_volume_L\n",
    "\n",
    "second_solution_volume_uL = 100\n",
    "second_solution_volume_L = second_solution_volume_uL * 10**(-6)\n",
    "second_solution_conc = (first_solution_conc * 20 * 10**(-6)) / second_solution_volume_L\n",
    "\n",
    "third_solution_volume_uL = 1000\n",
    "third_solution_conc = (second_solution_conc * 5 * 10**(-6)) * ((10**(15))/(10**(6))) / third_solution_volume_uL\n",
    "\n",
    "fourth_solution_volume_uL = 100\n",
    "fourth_solution_conc = (third_solution_conc * 50) / fourth_solution_volume_uL\n",
    "\n",
    "# Everything seems to shape up alright. I think my conversions and 'feel for conversions' is now okay."
   ]
  },
  {
   "cell_type": "markdown",
   "metadata": {},
   "source": [
    "# Protocol for making the master mix"
   ]
  },
  {
   "cell_type": "markdown",
   "metadata": {},
   "source": [
    "### Add 50 uL of the restriction enzyme (BbsI)\n",
    "### Add 2.5 uL of DNA ligase\n",
    "### Add 100 uL of T4 buffer\n",
    "### Add 97.5 uL of DI water"
   ]
  },
  {
   "cell_type": "markdown",
   "metadata": {},
   "source": [
    "# Protocol for Making 3M NaCl Solution"
   ]
  },
  {
   "cell_type": "markdown",
   "metadata": {},
   "source": [
    "### Add 0.877 g NaCl to 5 mL of DI water."
   ]
  },
  {
   "cell_type": "code",
   "execution_count": 1,
   "metadata": {},
   "outputs": [
    {
     "name": "stdout",
     "output_type": "stream",
     "text": [
      "250.0\n"
     ]
    }
   ],
   "source": [
    "# 'units' per mL\n",
    "BbsI_stock = 20000\n",
    "Ligase_stock = 400000\n",
    "\n",
    "# 'units' per uL\n",
    "BbsI_stock_uL = BbsI_stock * (10 **(-6)) * (10 ** (3))\n",
    "Ligase_stock_uL = Ligase_stock * (10 **(-6)) * (10 ** (3))\n",
    "\n",
    "# number of wells needed\n",
    "n = 100\n",
    "\n",
    "# 'units'\n",
    "amt_BbsI = 10 * 100\n",
    "amt_Ligase = 10 * 100\n",
    "\n",
    "# microliters\n",
    "v_BbsI = amt_BbsI / BbsI_stock_uL\n",
    "v_Ligase = amt_Ligase / Ligase_stock_uL\n",
    "v_Ligase_buffer = 100\n",
    "v_DI_water = 97.5\n",
    "\n",
    "sum = v_BbsI + v_Ligase + v_Ligase_buffer + v_DI_water\n",
    "print(str(sum))"
   ]
  },
  {
   "cell_type": "markdown",
   "metadata": {},
   "source": [
    "# Protocol for filling wells for library assembly"
   ]
  },
  {
   "cell_type": "markdown",
   "metadata": {},
   "source": [
    "### Add 0.25 uL of DNA solution (40 fmol/uL) for every DNA part.\n",
    " - ** If the DNA part is the DV_backbone (positions 2 through 13), add 3 uL instead **\n",
    " \n",
    "### Add 2.5 uL of the master mix.\n",
    "### Add the remaining DI water until reaction volume is 10 uL.\n",
    "### Throw in thermocycler with the following program:\n",
    "20 cycles of the following:\n",
    "\n",
    "37 C for 1.5 minutes\n",
    "16 C for 3 minutes\n",
    "\n",
    "50 C for 5 minutes\n",
    "80 C for 10 minutes\n",
    "\n",
    "\n",
    "4 C on hold"
   ]
  },
  {
   "cell_type": "markdown",
   "metadata": {},
   "source": [
    "# Big questions remaining"
   ]
  },
  {
   "cell_type": "markdown",
   "metadata": {},
   "source": [
    "### How do we treat / prepare our destination vectors?\n",
    " - Looks like ultramers, of which there are going to be 13-14 per destination vector. Kind of shaping up to be a library assembly nightmare. But, I can just treat them as regular ultramers just like everything else.\n",
    " \n",
    "### How are we going to know which part is which at the beginning of the day?\n",
    "  - Francis prepared the first dilution, so I didn't actually verify that the correct parts were in each well. That was abstracted towards Francis.\n",
    "  \n",
    "### What is the best way to go about diluting my samples seeing that I need to have an annealing procedure as well?\n",
    " - I'm not all too concerned about this right now."
   ]
  },
  {
   "cell_type": "code",
   "execution_count": null,
   "metadata": {
    "collapsed": true
   },
   "outputs": [],
   "source": []
  }
 ],
 "metadata": {
  "kernelspec": {
   "display_name": "Python 3",
   "language": "python",
   "name": "python3"
  },
  "language_info": {
   "codemirror_mode": {
    "name": "ipython",
    "version": 3
   },
   "file_extension": ".py",
   "mimetype": "text/x-python",
   "name": "python",
   "nbconvert_exporter": "python",
   "pygments_lexer": "ipython3",
   "version": "3.6.1"
  }
 },
 "nbformat": 4,
 "nbformat_minor": 2
}
