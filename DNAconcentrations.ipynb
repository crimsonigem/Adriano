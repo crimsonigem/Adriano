{
 "cells": [
  {
   "cell_type": "markdown",
   "metadata": {},
   "source": [
    "# Creating 8 uM solutions from the lyophilized DNA"
   ]
  },
  {
   "cell_type": "code",
   "execution_count": null,
   "metadata": {
    "collapsed": true
   },
   "outputs": [],
   "source": [
    "# We will start with 4 nmoles of lyophilized DNA and end up with a 8 umol/L (8 uM) solution\n",
    "print(\"Add 100 uL of DI water to the lyophilized DNA.\")\n",
    "print(\"Take 1 uL of the DNA solution, and add 999 uL of DI water to it.\")\n",
    "print(\"Take 2 uL of the new DNA solution, and add 998 uL of DI water to it.\")"
   ]
  },
  {
   "cell_type": "markdown",
   "metadata": {},
   "source": [
    "# Creating the Initial DNA dilution"
   ]
  },
  {
   "cell_type": "code",
   "execution_count": 14,
   "metadata": {},
   "outputs": [
    {
     "name": "stdout",
     "output_type": "stream",
     "text": [
      "How many ultramers are being annealed for this part?\n",
      "2\n",
      "Add 973 microliters of DI water, 17 microliters of 3M NaCl solution, and 5 microliters of each of the 2 ultramer solutions.\n"
     ]
    }
   ],
   "source": [
    "print(\"How many ultramers are being annealed for this part?\")\n",
    "ultramer_number = int(input())\n",
    "# volumes are in microliters\n",
    "microliters_water = 983 - 5 * ultramer_number\n",
    "microliters_3M_salt = 17\n",
    "\n",
    "print(\"Add \" + str(microliters_water) + \" microliters of DI water, 17 microliters of 3M NaCl solution, and 5 microliters\" +\n",
    "      \" of each of the \" + str(ultramer_number) + \" ultramer solutions.\")"
   ]
  },
  {
   "cell_type": "markdown",
   "metadata": {},
   "source": [
    "# Amount of DNA in this initial dilution"
   ]
  },
  {
   "cell_type": "code",
   "execution_count": 16,
   "metadata": {},
   "outputs": [
    {
     "name": "stdout",
     "output_type": "stream",
     "text": [
      "Amount of DNA: 40000 fmols\n",
      "Concentration: 40.0 fmols/uL\n"
     ]
    }
   ],
   "source": [
    "# amount is in fmol\n",
    "fmol_DNA = 40000\n",
    "# concentration is in fmol per uL\n",
    "concentration = 40000/1000\n",
    "\n",
    "print(\"Amount of DNA: \" + str(fmol_DNA) + \" fmols\")\n",
    "print(\"Concentration: \" + str(concentration) + \" fmols/uL\")"
   ]
  },
  {
   "cell_type": "markdown",
   "metadata": {},
   "source": [
    "# Amount of Reagent in the 10 uL final volume"
   ]
  },
  {
   "cell_type": "code",
   "execution_count": 19,
   "metadata": {},
   "outputs": [
    {
     "name": "stdout",
     "output_type": "stream",
     "text": [
      "2.5\n"
     ]
    }
   ],
   "source": [
    "# volumes are in uL\n",
    "restriction_enzyme = 0.5\n",
    "\n",
    "# taking 1.75 uL of DNA ligase solution and adding 68.25 uL of water, and we'll be taking volumes from this diluted solution\n",
    "# this dilution of DNA ligase should have 10 U per uL\n",
    "ligase = 1\n",
    "\n",
    "# ligase buffer\n",
    "ligase_buffer = 1\n",
    "\n",
    "total_reaction_volume = restriction_enzyme + ligase + ligase_buffer"
   ]
  },
  {
   "cell_type": "markdown",
   "metadata": {},
   "source": [
    "# Diluting the DNA solution such that 0.5 uL has 7 femtomoles"
   ]
  },
  {
   "cell_type": "code",
   "execution_count": 21,
   "metadata": {},
   "outputs": [
    {
     "name": "stdout",
     "output_type": "stream",
     "text": [
      "Add 1.857 mL of DI water to the DNA solutions\n"
     ]
    }
   ],
   "source": [
    "# current concentration is 40 fmol/uL\n",
    "# we want to get this to 14 fmol/uL\n",
    "\n",
    "print(\"Add 1.857 mL of DI water to the DNA solutions\")"
   ]
  },
  {
   "cell_type": "markdown",
   "metadata": {},
   "source": [
    "# Creating a library DNA solution"
   ]
  },
  {
   "cell_type": "code",
   "execution_count": null,
   "metadata": {
    "collapsed": true
   },
   "outputs": [],
   "source": [
    "# currently we have 2.857 mL of 14 fmol/uL DNA solution\n",
    "# we'll be left with a 14 fmol/uL DNA solution (where the moles are DNA strand of different parts), with the volume\n",
    "# depending on how many DNA parts are in the library\n",
    "\n",
    "print(\"Add 0.1 mL of each DNA solution into a new library solution\")"
   ]
  },
  {
   "cell_type": "markdown",
   "metadata": {},
   "source": [
    "# Adding DNA to the reaction solution from the 14 fmol/uL solution"
   ]
  },
  {
   "cell_type": "code",
   "execution_count": 22,
   "metadata": {},
   "outputs": [
    {
     "name": "stdout",
     "output_type": "stream",
     "text": [
      "Add 0.5 uL of DNA to the reaction solution and let DI water fill the remaining solution to 10 uL total\n"
     ]
    }
   ],
   "source": [
    "print(\"Add 0.5 uL of DNA to the reaction solution and let DI water fill the remaining solution to 10 uL total\")"
   ]
  },
  {
   "cell_type": "markdown",
   "metadata": {},
   "source": [
    "# Protocol for Creating the Working DNA concentrations"
   ]
  },
  {
   "cell_type": "markdown",
   "metadata": {},
   "source": [
    "##### Add 100 uL of DI water to lyophilized DNA. (40 umol/L)\n",
    "### Add 20 uL of DNA solution to 80 uL DI water. (8 umol/L)\n",
    "### Add 973 uL DI water, 17 uL 3M NaCl solution, and 5 uL each of forward/reverse primer. (40 fmol/uL)\n",
    "### Annealing procedure\n",
    "Place in 94 C heat block for 3 minutes then allow to return to room temperature on the bench.\n",
    "### Add 100 uL DNA solution and 185.7 uL DI water. (14 fmol/uL)\n",
    "### (For library part): Add 50 uL of each DNA solution into a new library solution\n",
    "** This whole procedure has to be done for every ultramer pairing (which is more than one for sequences longer than 200 bp). **"
   ]
  },
  {
   "cell_type": "markdown",
   "metadata": {},
   "source": [
    "# Protocol for making the master mix"
   ]
  },
  {
   "cell_type": "markdown",
   "metadata": {},
   "source": [
    "### Add 35 uL of the restriction enzyme (BbsI)\n",
    "### Add 1.75 uL of DNA ligase\n",
    "### Add 70 uL of T4 buffer"
   ]
  },
  {
   "cell_type": "markdown",
   "metadata": {},
   "source": [
    "# Protocol for filling wells for library assembly"
   ]
  },
  {
   "cell_type": "markdown",
   "metadata": {},
   "source": [
    "### Add 0.5 uL of DNA solution (14 fmol/uL) for every DNA part.\n",
    "### Add 1.53 uL of the master mix.\n",
    "### Add the remaining DI water until reaction volume is 10 uL.\n",
    "### Throw in thermocycler with the following program:\n",
    "20 cycles of the following:\n",
    "\n",
    "37 C for 1.5 minutes\n",
    "16 C for 3 minutes\n",
    "\n",
    "50 C for 5 minutes\n",
    "80 C for 10 minutes\n",
    "\n",
    "\n",
    "4 C on hold"
   ]
  },
  {
   "cell_type": "markdown",
   "metadata": {},
   "source": [
    "# Big questions remaining"
   ]
  },
  {
   "cell_type": "markdown",
   "metadata": {},
   "source": [
    "### How do we treat / prepare our destination vectors?\n",
    "### How are we going to know which part is which at the beginning of the day?\n"
   ]
  },
  {
   "cell_type": "code",
   "execution_count": null,
   "metadata": {
    "collapsed": true
   },
   "outputs": [],
   "source": []
  }
 ],
 "metadata": {
  "kernelspec": {
   "display_name": "Python 3",
   "language": "python",
   "name": "python3"
  },
  "language_info": {
   "codemirror_mode": {
    "name": "ipython",
    "version": 3
   },
   "file_extension": ".py",
   "mimetype": "text/x-python",
   "name": "python",
   "nbconvert_exporter": "python",
   "pygments_lexer": "ipython3",
   "version": "3.6.1"
  }
 },
 "nbformat": 4,
 "nbformat_minor": 2
}
