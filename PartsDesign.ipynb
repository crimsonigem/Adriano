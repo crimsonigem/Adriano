{
 "cells": [
  {
   "cell_type": "code",
   "execution_count": null,
   "metadata": {
    "collapsed": true
   },
   "outputs": [],
   "source": [
    "Useful functions"
   ]
  },
  {
   "cell_type": "code",
   "execution_count": 50,
   "metadata": {},
   "outputs": [],
   "source": [
    "def complementary(DNA):\n",
    "    \n",
    "    DNA_comp = \"\"\n",
    "    \n",
    "    # makes the complementary sequence\n",
    "    for i in range(len(DNA)):\n",
    "        if DNA[i] == \"a\":\n",
    "            DNA_comp += \"t\"\n",
    "        if DNA[i] == \"t\":\n",
    "            DNA_comp += \"a\"\n",
    "        if DNA[i] == \"c\":\n",
    "            DNA_comp += \"g\"\n",
    "        if DNA[i] == \"g\":\n",
    "            DNA_comp += \"c\"\n",
    "    \n",
    "    # returns the complementary sequence\n",
    "    return DNA_comp\n",
    "\n",
    "def flip(DNA):\n",
    "\n",
    "    DNA_flipped = \"\"\n",
    "    \n",
    "    # makes the flipped sequence\n",
    "    for i in range(len(DNA)):\n",
    "        DNA_flipped += DNA[-(i + 1)]\n",
    "    \n",
    "    # returns the flipped sequence in a DNA dictionary construct\n",
    "    return DNA_flipped\n"
   ]
  },
  {
   "cell_type": "markdown",
   "metadata": {},
   "source": [
    "Our illegal sites"
   ]
  },
  {
   "cell_type": "code",
   "execution_count": 55,
   "metadata": {},
   "outputs": [],
   "source": [
    "# all of the sequences in this document should be considered as 5' to 3' in direction\n",
    "\n",
    "# bbf rfc 94 - MoClo\n",
    "bbsi_recognition_sequence   = 'gaagac'\n",
    "bsai_recognition_sequence   = 'ggtctc'\n",
    "\n",
    "# bbf rfc 10\n",
    "ecori_recognition_sequence  = 'gaattc'\n",
    "psti_recognition_sequence   = 'ctgcag'\n",
    "noti_recognition_sequence   = 'gcggccgc'\n",
    "xbai_recognition_sequence   = 'tctaga'\n",
    "spei_recognition_sequence   = 'actagt'\n",
    "\n",
    "# bbf rfc 25 - Freiburg fusion\n",
    "ngomiv_recognition_sequence = 'gccgcc'\n",
    "agei_recognition_sequence   = 'accggt'\n",
    "\n",
    "restriction_dictionary = {'bbsi': bbsi_recognition_sequence, 'bsai': bsai_recognition_sequence, \n",
    "                          'ecori': ecori_recognition_sequence, 'psti': psti_recognition_sequence, 'noti': noti_recognition_sequence,\n",
    "                         'xbai': xbai_recognition_sequence, 'spei': spei_recognition_sequence, \n",
    "                          'ngomiv': ngomiv_recognition_sequence, 'agei': agei_recognition_sequence}\n",
    "\n",
    "\n"
   ]
  },
  {
   "cell_type": "raw",
   "metadata": {},
   "source": [
    "Our parts list"
   ]
  },
  {
   "cell_type": "code",
   "execution_count": 56,
   "metadata": {},
   "outputs": [],
   "source": [
    "#cleavable linker\n",
    "enterokinase_recognition_site = 'GACGATGACGATAAA'\n",
    "\n",
    "# long rigid linker \n",
    "input = 'GCA GAG GCA GCG GCA AAG GAA GCG GCT GCA AAA GAG GCT GCA GCG AAA GAA GCG GCC GCG AAG GCT CTT GAA GCG GAA GCG GCG GCC AAA GAA GCA GCGGCT AAG GAG GCG GCC GCA AAA GAA GCA GCA GCC AAG GCG'\n",
    "rigid_linker_long = input.replace(' ', '')\n",
    "\n",
    "# short rigid linker - DEFAULT\n",
    "rigid_linker_short = 'ggaagc'\n",
    "\n",
    "# long flexible linker\n",
    "input2 = 'GGT GGG GGG GGC TCT GGC GGT GGG GGT AGT GGC GGC GGT GGT AGT'\n",
    "flexible_linker_long = input2.replace(' ', '')\n",
    "\n",
    "# short flexible linker\n",
    "input3 = 'GGG GGT GGC GGC GGG GGC GGC GGA'\n",
    "flexible_linker_short = input3.replace(' ', '')\n",
    "\n",
    "# csgA E. coli\n",
    "csgA_ecoli = 'ATGAAACTTTTAAAAGTAGCAGCAATTGCAGCAATCGTATTCTCCGGTAGCGCTCTGGCAGGTGTTGTTCCTCAGTACGGCGGCGGCGGTAACCACGGTGGTGGCGGTAATAATAGCGGCCCAAATTCTGAGCTGAACATTTACCAGTACGGTGGCGGTAACTCTGCACTTGCTCTGCAAACTGATGCCCGTAACTCTGACTTGACTATTACCCAGCATGGCGGCGGTAATGGTGCAGATGTTGGTCAGGGCTCAGATGACAGCTCAATCGATCTGACCCAACGTGGCTTCGGTAACAGCGCTACTCTTGATCAGTGGAACGGCAAAAATTCTGAAATGACGGTTAAACAGTTCGGTGGTGGCAACGGTGCTGCAGTTGACCAGACTGCATCTAACTCCTCCGTCAACGTGACTCAGGTTGGCTTTGGTAACAACGCGACCGCTCATCAGTACTAA'\n",
    "\n",
    "# csgA salmonella\n",
    "csgA_salmonella = 'ATGGGGGTTTTACCATGAAACTTTTAAAAGTGGCAGCATTCGCAGCAATCGTAGTTTCTGGCAGTGCTCTGGCTGGCGTCGTTCCACAATGGGGCGGCGGCGGTAATCATAACGGCGGCGGCAATAGTTCCGGCCCGGATTCCACGTTGAGCATTTATCAGTACGGTTCCGCTAACGCTGCGCTTGCTCTGCAAAGCGATGCCCGTAAATCTGAAACGACCATTACCCAGAGCGGTTATGGTAACGGCGCCGATGTAGGCCAGGGTGCGGATAACAGTACTATTGAACTGACTCAGAATGGTTTCAGAAACAATGCCACCATCGACCAGTGGAACGCTAAAAACTCCGATATTACTGTCGGTCAATACGGCGGTAATAACGCCGCGCTGGTTAATCAGACCGCATCTGATTCCAGCGTAATGGTGCGTCAGGTTGGTTTTGGCAACAACGCCACGGCTAACCAGTATTAA'\n",
    "\n",
    "# csgA shewanella\n",
    "csgA_shewanella = 'ATGAAATCACAAGCTAAAATGTCATTGATTGCTTTAGCCATTACAGCTGGATTAAGTGGTCATGCACTAGCGGCAAGTACGATCAACGAAATCAGCGTTAAACAAACTGGCGAAGGCCAAGACACCTTAGTCGCACAAACGGGGGTTATTAACGCAGCTGCAGTGACCCAAACCGGTAATGCACAAGTCGCCACAGTAGTGCAAGACGGTGTGTGGCATGAAGCCCAAGTTAATTCAACTGGCGATGCCAACGAAGTGACGGTTAGCCAACAAACAGACTGGCATGTTGCCGCTGTTGATGTGACTGGTAATAACAACGAAGCTGAAGTGACTCAAGACGGCTTCTTCAACCAAAGTAGCAACGATGTCGTGGGTAACGACAACCTCGTTTCTGTTAACCAATTAGGTGAGCTGAACGAAAGCTACGTTGAAATTACTGGTAATGAAAACAGTGCATTTGTTGAACAAGAAGGTGATGAAAACCTTGCCGTATTCCGTGTTGAAGGTGATAACAACGACGGCGATATCAAACAATACGGTAACAACAACCAAGCGGGTTTAATTGCTCTCGATCTAAGTGCCAACGTGGGTAATAACAACGATGTCTCCGTCGAACAAATCGGTAATAATAACTTTGGTGCAGCCAAAGGCATCGCTGGTAACGACAACAGCGTTGACATCTACCAAAAAGGTGACAACCACACTGGTTTCGTTTACGCCTTGGCTGGTAGTGAAAACGATATCAGCATGGAACAAGAAGGCAGCAACAACACTGCATATCTGTCAATGACTACAGGTGATGATAACACTGTCGATATCACTCAAGACGGCGATAGCAATACTGTGGGTGATTCTTTAATTGCGGATATTCAAGGTGACGATAACGATATCACCATCAAGCAAAAAGGCGACAGCAACGGTGCAGAATTCCAAGTATGGGGTGATAGCAACGACGTTGACTTAAAACAACGCGGTGATGCCAACTTCGCAACCTTTGGCGCTTACGGCACAGATAACGATTTCGATTTATCTTCTAAAGGTGATAACAACGAACTTGTTGCCTTCGCAACCGGCGAAGACAACAGCATTGAAATCAGCCAAGAAGGTGATGCGAACTTTGCCTACGTCGATGCCACTGGTAACGACAACGAAGTCAATGTAGAGCAAGATGGCGATCAAAACGAAACCATCATCACTGTTGAAGGTAACAACAATGCTGATGTCACTGCTCTACAACACCGTGGCGATCTGAACTTAATCGATTTAATTATCGAAGGCGATGAAAACGCAGCAGAAATCACTCAAGCAGGTAGCGGTAACTGGGTGGGCGGCGATAGCAGTAGCTCATTTGCAGCGAGCTCATTTGGCGTAAGTGGTGATAACAATAGCCTAATGATTACTCAAACAGGTAATGACAACTTAGTATTAGGTTCTCAAGCGGGCAACAACAACAGTATCAGCGTCACTCAAAGCGGTGATATGAACGTTGCGACTGTAGTGCAATACTAA'\n",
    "\n",
    "# csgB\n",
    "csgB_ecoli = 'ATGAAAAACAAATTGTTATTTATGATGTTAACAATACTGGGTGCGCCTGGGATTGCAGCCGCAGCAGGTTATGATTTAGCTAATTCAGAATATAACTTCGCGGTAAATGAATTGAGTAAGTCTTCATTTAATCAGGCAGCCATAATTGGTCAAGCTGGGACTAATAATAGTGCTCAGTTACGGCAGGGAGGCTCAAAACTTTTGGCGGTTGTTGCGCAAGAAGGTAGTAGCAACCGGGCAAAGATTGACCAGACAGGAGATTATAACCTTGCATATATTGATCAGGCGGGCAGTGCCAACGATGCCAGTATTTCGCAAGGTGCTTATGGTAATACTGCGATGATTATCCAGAAAGGTTCTGGTAATAAAGCAAATATTACACAGTATGGTACTCAAAAAACGGCAATTGTAGTGCAGAGACAGTCGCAAATGGCTATTCGCGTGACACAACGTTAA'\n",
    "\n",
    "# csgC\n",
    "csgC_ecoli = 'ATGAATACGTTATTACTCCTTGCGGCACTTTCCAGTCAGATAACCTTTAATACGACCCAGCAAGGGGATGTGTATACCATTATTCCTGAAGTCACTCTTACTCAATCTTGTCTGTGCAGAGTACAAATATTGTCCCTGCGCGAAGGCAGTTCAGGGCAAAGTCAGACGAAGCAAGAAAAGACCCTTTCATTGCCTGCTAATCAACCCATTGCTTTGACGAAGTTGAGTTTAAATATTTCCCCGGACGATCGGGTGAAAATAGTTGTTACTGTTTCTGATGGACAGTCACTTCATTTATCACAACAATGGCCGCCCTCTTCAGAAAAGTCTTAA'\n",
    "\n",
    "# csgE\n",
    "csgE_ecoli = 'ATGAAACGTTATTTACGCTGGATTGTGGCGGCAGAATTTCTGTTCGCCGCAGGGAATCTTCACGCCGTTGAGGTAGAAGTCCCGGGATTGCTAACTGACCATACTGTTTCATCTATTGGCCATGATTTTTACCGAGCCTTTAGTGATAAATGGGAAAGTGACTATACGGGTAACTTAACGATTAATGAAAGGCCCAGTGCACGATGGGGAAGCTGGATCACTATAACGGTCAATCAGGACGTTATTTTCCAGACTTTTTTATTTCCGTTGAAAAGAGACTTCGAGAAAACTGTCGTCTTTGCACTGATTCAAACTGAAGAAGCACTAAATCGTCGCCAGATAAATCAGGCGTTATTAAGTACGGGCGATTTGGCGCATGATGAATTCTAA'\n",
    "\n",
    "# csgF\n",
    "csgF_ecoli = 'ATGCGTGTCAAACATGCAGTAGTTCTACTCATGCTTATTTCGCCATTAAGTTGGGCTGGAACCATGACTTTCCAGTTCCGTAATCCAAACTTTGGTGGTAACCCAAATAATGGCGCTTTTTTATTAAATAGCGCTCAGGCCCAAAACTCTTATAAAGATCCGAGCTATAACGATGACTTTGGTATTGAAACACCCTCAGCGTTAGATAACTTTACTCAGGCCATCCAGTCACAAATTTTAGGTGGGCTACTGTCGAATATTAATACCGGTAAACCGGGCCGCATGGTGACCAACGATTATATTGTCGATATTGCCAACCGCGATGGTCAATTGCAGTTGAACGTGACAGATCGTAAAACCGGACAAACCTCGACCATCCAGGTTTCGGGTTTACAAAATAACTCAACCGATTTTTAA'\n",
    "\n",
    "# csgG\n",
    "csgG_ecoli = 'ATGCAGCGCTTATTTCTTTTGGTTGCCGTCATGTTACTGAGCGGATGCTTAACCGCCCCGCCTAAAGAAGCCGCCAGACCGACATTAATGCCTCGTGCTCAGAGCTACAAAGATTTGACCCATCTGCCAGCGCCGACGGGTAAAATCTTTGTTTCGGTATACAACATTCAGGACGAAACCGGGCAATTTAAACCCTACCCGGCAAGTAACTTCTCCACTGCTGTTCCGCAAAGCGCCACGGCAATGCTGGTCACGGCACTGAAAGATTCTCGCTGGTTTATACCGCTGGAGCGCCAGGGCTTACAAAACCTGCTTAACGAGCGCAAGATTATTCGTGCGGCACAAGAAAACGGCACGGTTGCCATTAATAACCGAATCCCGCTGCAATCTTTAACGGCGGCAAATATCATGGTTGAAGGTTCGATTATCGGTTATGAAAGCAACGTCAAATCTGGCGGGGTTGGGGCAAGATATTTTGGCATCGGTGCCGACACGCAATACCAGCTCGATCAGATTGCCGTGAACCTGCGCGTCGTCAATGTGAGTACCGGCGAGATCCTTTCTTCGGTGAACACCAGTAAGACGATACTTTCCTATGAAGTTCAGGCCGGGGTTTTCCGCTTTATTGACTACCAGCGCTTGCTTGAAGGGGAAGTGGGTTACACCTCGAACGAACCTGTTATGCTGTGCCTGATGTCGGCTATCGAAACAGGGGTCATTTTCCTGATTAATGATGGTATCGACCGTGGTCTGTGGGATTTGCAAAATAAAGCAGAACGGCAGAATGACATTCTGGTGAAATACCGCCATATGTCGGTTCCACCGGAATCCTGA'\n",
    "\n",
    "\n",
    "\n",
    "linker_dict = {'enterokinase_recognition_site': enterokinase_recognition_site, 'rigid_linker_long': rigid_linker_long,\n",
    "          'rigid_linker_short': rigid_linker_short, 'flexible_linker_long': flexible_linker_long,\n",
    "          'flexible_linker_short': flexible_linker_short}\n",
    "\n",
    "# payload_dict\n",
    "\n",
    "polymer_dict = {'csgA_ecoli': csgA_ecoli, 'csgB_ecoli': csgB_ecoli, 'csgC_ecoli': csgC_ecoli, 'csgE_ecoli': csgE_ecoli,\n",
    "               'csgF_ecoli': csgF_ecoli, 'csgA_salmonella': csgA_salmonella, 'csgA_shewanella': csgA_shewanella,\n",
    "               'csgF_ecoli': csgF_ecoli, 'csgG_ecoli': csgG_ecoli}\n",
    "\n",
    "    \n"
   ]
  },
  {
   "cell_type": "raw",
   "metadata": {},
   "source": [
    "Let's search for restriction sites"
   ]
  },
  {
   "cell_type": "code",
   "execution_count": 57,
   "metadata": {},
   "outputs": [
    {
     "name": "stdout",
     "output_type": "stream",
     "text": [
      "The linker, rigid_linker_long, has psti cut site, ctgcag\n",
      "The linker, rigid_linker_long, has noti cut site, gcggccgc\n",
      "\n",
      "The linker complement, rigid_linker_long, has psti cut site, ctgcag\n",
      "The linker complement, rigid_linker_long, has noti cut site, gcggccgc\n",
      "The linker complement, rigid_linker_long, has ngomiv cut site, gccgcc\n",
      "The linker complement, flexible_linker_long, has ngomiv cut site, gccgcc\n",
      "The linker complement, flexible_linker_short, has ngomiv cut site, gccgcc\n",
      "\n",
      "The polymer, csgA_ecoli, has psti cut site, ctgcag\n",
      "The polymer, csgC_ecoli, has ngomiv cut site, gccgcc\n",
      "The polymer, csgE_ecoli, has ecori cut site, gaattc\n",
      "The polymer, csgF_ecoli, has agei cut site, accggt\n",
      "The polymer, csgA_shewanella, has bbsi cut site, gaagac\n",
      "The polymer, csgA_shewanella, has ecori cut site, gaattc\n",
      "The polymer, csgA_shewanella, has psti cut site, ctgcag\n",
      "The polymer, csgA_shewanella, has agei cut site, accggt\n",
      "The polymer, csgG_ecoli, has ngomiv cut site, gccgcc\n",
      "\n",
      "The polymer complement, csgA_ecoli, has psti cut site, ctgcag\n",
      "The polymer complement, csgA_ecoli, has ngomiv cut site, gccgcc\n",
      "The polymer complement, csgB_ecoli, has bbsi cut site, gaagac\n",
      "The polymer complement, csgE_ecoli, has ecori cut site, gaattc\n",
      "The polymer complement, csgE_ecoli, has ngomiv cut site, gccgcc\n",
      "The polymer complement, csgF_ecoli, has agei cut site, accggt\n",
      "The polymer complement, csgA_salmonella, has ngomiv cut site, gccgcc\n",
      "The polymer complement, csgA_shewanella, has ecori cut site, gaattc\n",
      "The polymer complement, csgA_shewanella, has psti cut site, ctgcag\n",
      "The polymer complement, csgA_shewanella, has ngomiv cut site, gccgcc\n",
      "The polymer complement, csgA_shewanella, has agei cut site, accggt\n",
      "The polymer complement, csgG_ecoli, has ngomiv cut site, gccgcc\n",
      "\n"
     ]
    }
   ],
   "source": [
    "# so, it looks like the long rigid linker is a problem since it has two restriction enzyme cut sites\n",
    "# it has 1 psti cut site\n",
    "# it has 2 noti cut sites\n",
    "\n",
    "# also, the complementary strands bring up a whole bunch more illegal restriction sites\n",
    "\n",
    "# check coding strand linkers\n",
    "for linker in linker_dict:\n",
    "    for restriction_enzyme in restriction_dictionary:\n",
    "        if restriction_dictionary[restriction_enzyme].lower() in linker_dict[linker].lower():\n",
    "            print(\"The linker, \" + linker + \", has \" + restriction_enzyme + \" cut site, \" + \n",
    "                  restriction_dictionary[restriction_enzyme].lower())\n",
    "print(\"\")\n",
    "\n",
    "# check complementary strand linkers\n",
    "for linker in linker_dict:\n",
    "    for restriction_enzyme in restriction_dictionary:\n",
    "        if restriction_dictionary[restriction_enzyme].lower() in flip(complementary(linker_dict[linker].lower())):\n",
    "            print(\"The linker complement, \" + linker + \", has \" + restriction_enzyme + \" cut site, \" + \n",
    "                  restriction_dictionary[restriction_enzyme].lower())\n",
    "print(\"\")\n",
    "\n",
    "# check coding strand polymers\n",
    "for polymer in polymer_dict:\n",
    "    for restriction_enzyme in restriction_dictionary:\n",
    "        if restriction_dictionary[restriction_enzyme].lower() in polymer_dict[polymer].lower():\n",
    "            print(\"The polymer, \" + polymer + \", has \" + restriction_enzyme + \" cut site, \" + \n",
    "                  restriction_dictionary[restriction_enzyme].lower())\n",
    "print(\"\")\n",
    "\n",
    "# check complementary strand polymers\n",
    "for polymer in polymer_dict:\n",
    "    for restriction_enzyme in restriction_dictionary:\n",
    "        if restriction_dictionary[restriction_enzyme].lower() in flip(complementary(polymer_dict[polymer].lower())):\n",
    "            print(\"The polymer complement, \" + polymer + \", has \" + restriction_enzyme + \" cut site, \" + \n",
    "                  restriction_dictionary[restriction_enzyme].lower())\n",
    "print(\"\")"
   ]
  },
  {
   "cell_type": "raw",
   "metadata": {},
   "source": [
    "Let's try to get rid of these cut sites"
   ]
  },
  {
   "cell_type": "code",
   "execution_count": null,
   "metadata": {
    "collapsed": true
   },
   "outputs": [],
   "source": []
  }
 ],
 "metadata": {
  "kernelspec": {
   "display_name": "Python 3",
   "language": "python",
   "name": "python3"
  },
  "language_info": {
   "codemirror_mode": {
    "name": "ipython",
    "version": 3
   },
   "file_extension": ".py",
   "mimetype": "text/x-python",
   "name": "python",
   "nbconvert_exporter": "python",
   "pygments_lexer": "ipython3",
   "version": "3.6.1"
  }
 },
 "nbformat": 4,
 "nbformat_minor": 2
}
